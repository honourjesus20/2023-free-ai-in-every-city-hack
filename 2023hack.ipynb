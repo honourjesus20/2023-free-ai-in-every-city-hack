{
 "cells": [
  {
   "cell_type": "code",
   "execution_count": 1,
   "id": "c88c226a",
   "metadata": {},
   "outputs": [
    {
     "ename": "ModuleNotFoundError",
     "evalue": "No module named 'matplotlib.artist'",
     "output_type": "error",
     "traceback": [
      "\u001b[1;31m---------------------------------------------------------------------------\u001b[0m",
      "\u001b[1;31mModuleNotFoundError\u001b[0m                       Traceback (most recent call last)",
      "Cell \u001b[1;32mIn[1], line 4\u001b[0m\n\u001b[0;32m      2\u001b[0m \u001b[38;5;28;01mimport\u001b[39;00m \u001b[38;5;21;01mpandas\u001b[39;00m \u001b[38;5;28;01mas\u001b[39;00m \u001b[38;5;21;01mpd\u001b[39;00m\n\u001b[0;32m      3\u001b[0m \u001b[38;5;28;01mimport\u001b[39;00m \u001b[38;5;21;01mnumpy\u001b[39;00m \u001b[38;5;28;01mas\u001b[39;00m \u001b[38;5;21;01mnp\u001b[39;00m\n\u001b[1;32m----> 4\u001b[0m \u001b[38;5;28;01mimport\u001b[39;00m \u001b[38;5;21;01mmatplotlib\u001b[39;00m\u001b[38;5;21;01m.\u001b[39;00m\u001b[38;5;21;01mpyplot\u001b[39;00m \u001b[38;5;28;01mas\u001b[39;00m \u001b[38;5;21;01mplt\u001b[39;00m\n\u001b[0;32m      5\u001b[0m \u001b[38;5;28;01mimport\u001b[39;00m \u001b[38;5;21;01mseaborn\u001b[39;00m \u001b[38;5;28;01mas\u001b[39;00m \u001b[38;5;21;01msns\u001b[39;00m\n\u001b[0;32m      7\u001b[0m get_ipython()\u001b[38;5;241m.\u001b[39mrun_line_magic(\u001b[38;5;124m'\u001b[39m\u001b[38;5;124mmatplotlib\u001b[39m\u001b[38;5;124m'\u001b[39m, \u001b[38;5;124m'\u001b[39m\u001b[38;5;124minline\u001b[39m\u001b[38;5;124m'\u001b[39m)\n",
      "File \u001b[1;32m~\\Anaconda3\\New folder\\lib\\site-packages\\matplotlib\\pyplot.py:52\u001b[0m\n\u001b[0;32m     50\u001b[0m \u001b[38;5;28;01mfrom\u001b[39;00m \u001b[38;5;21;01mcycler\u001b[39;00m \u001b[38;5;28;01mimport\u001b[39;00m cycler\n\u001b[0;32m     51\u001b[0m \u001b[38;5;28;01mimport\u001b[39;00m \u001b[38;5;21;01mmatplotlib\u001b[39;00m\n\u001b[1;32m---> 52\u001b[0m \u001b[38;5;28;01mimport\u001b[39;00m \u001b[38;5;21;01mmatplotlib\u001b[39;00m\u001b[38;5;21;01m.\u001b[39;00m\u001b[38;5;21;01mcolorbar\u001b[39;00m\n\u001b[0;32m     53\u001b[0m \u001b[38;5;28;01mimport\u001b[39;00m \u001b[38;5;21;01mmatplotlib\u001b[39;00m\u001b[38;5;21;01m.\u001b[39;00m\u001b[38;5;21;01mimage\u001b[39;00m\n\u001b[0;32m     54\u001b[0m \u001b[38;5;28;01mfrom\u001b[39;00m \u001b[38;5;21;01mmatplotlib\u001b[39;00m \u001b[38;5;28;01mimport\u001b[39;00m _api\n",
      "File \u001b[1;32m~\\Anaconda3\\New folder\\lib\\site-packages\\matplotlib\\colorbar.py:19\u001b[0m\n\u001b[0;32m     16\u001b[0m \u001b[38;5;28;01mimport\u001b[39;00m \u001b[38;5;21;01mnumpy\u001b[39;00m \u001b[38;5;28;01mas\u001b[39;00m \u001b[38;5;21;01mnp\u001b[39;00m\n\u001b[0;32m     18\u001b[0m \u001b[38;5;28;01mimport\u001b[39;00m \u001b[38;5;21;01mmatplotlib\u001b[39;00m \u001b[38;5;28;01mas\u001b[39;00m \u001b[38;5;21;01mmpl\u001b[39;00m\n\u001b[1;32m---> 19\u001b[0m \u001b[38;5;28;01mfrom\u001b[39;00m \u001b[38;5;21;01mmatplotlib\u001b[39;00m \u001b[38;5;28;01mimport\u001b[39;00m _api, cbook, collections, cm, colors, contour, ticker\n\u001b[0;32m     20\u001b[0m \u001b[38;5;28;01mimport\u001b[39;00m \u001b[38;5;21;01mmatplotlib\u001b[39;00m\u001b[38;5;21;01m.\u001b[39;00m\u001b[38;5;21;01martist\u001b[39;00m \u001b[38;5;28;01mas\u001b[39;00m \u001b[38;5;21;01mmartist\u001b[39;00m\n\u001b[0;32m     21\u001b[0m \u001b[38;5;28;01mimport\u001b[39;00m \u001b[38;5;21;01mmatplotlib\u001b[39;00m\u001b[38;5;21;01m.\u001b[39;00m\u001b[38;5;21;01mpatches\u001b[39;00m \u001b[38;5;28;01mas\u001b[39;00m \u001b[38;5;21;01mmpatches\u001b[39;00m\n",
      "File \u001b[1;32m~\\Anaconda3\\New folder\\lib\\site-packages\\matplotlib\\collections.py:19\u001b[0m\n\u001b[0;32m     16\u001b[0m \u001b[38;5;28;01mimport\u001b[39;00m \u001b[38;5;21;01mnumpy\u001b[39;00m \u001b[38;5;28;01mas\u001b[39;00m \u001b[38;5;21;01mnp\u001b[39;00m\n\u001b[0;32m     18\u001b[0m \u001b[38;5;28;01mimport\u001b[39;00m \u001b[38;5;21;01mmatplotlib\u001b[39;00m \u001b[38;5;28;01mas\u001b[39;00m \u001b[38;5;21;01mmpl\u001b[39;00m\n\u001b[1;32m---> 19\u001b[0m \u001b[38;5;28;01mfrom\u001b[39;00m \u001b[38;5;21;01m.\u001b[39;00m \u001b[38;5;28;01mimport\u001b[39;00m (_api, _path, artist, cbook, cm, colors \u001b[38;5;28;01mas\u001b[39;00m mcolors, _docstring,\n\u001b[0;32m     20\u001b[0m                hatch \u001b[38;5;28;01mas\u001b[39;00m mhatch, lines \u001b[38;5;28;01mas\u001b[39;00m mlines, path \u001b[38;5;28;01mas\u001b[39;00m mpath, transforms)\n\u001b[0;32m     21\u001b[0m \u001b[38;5;28;01mfrom\u001b[39;00m \u001b[38;5;21;01m.\u001b[39;00m\u001b[38;5;21;01m_enums\u001b[39;00m \u001b[38;5;28;01mimport\u001b[39;00m JoinStyle, CapStyle\n\u001b[0;32m     24\u001b[0m \u001b[38;5;66;03m# \"color\" is excluded; it is a compound setter, and its docstring differs\u001b[39;00m\n\u001b[0;32m     25\u001b[0m \u001b[38;5;66;03m# in LineCollection.\u001b[39;00m\n",
      "File \u001b[1;32m~\\Anaconda3\\New folder\\lib\\site-packages\\matplotlib\\lines.py:14\u001b[0m\n\u001b[0;32m     12\u001b[0m \u001b[38;5;28;01mimport\u001b[39;00m \u001b[38;5;21;01mmatplotlib\u001b[39;00m \u001b[38;5;28;01mas\u001b[39;00m \u001b[38;5;21;01mmpl\u001b[39;00m\n\u001b[0;32m     13\u001b[0m \u001b[38;5;28;01mfrom\u001b[39;00m \u001b[38;5;21;01m.\u001b[39;00m \u001b[38;5;28;01mimport\u001b[39;00m _api, cbook, colors \u001b[38;5;28;01mas\u001b[39;00m mcolors, _docstring\n\u001b[1;32m---> 14\u001b[0m \u001b[38;5;28;01mfrom\u001b[39;00m \u001b[38;5;21;01m.\u001b[39;00m\u001b[38;5;21;01martist\u001b[39;00m \u001b[38;5;28;01mimport\u001b[39;00m Artist, allow_rasterization\n\u001b[0;32m     15\u001b[0m \u001b[38;5;28;01mfrom\u001b[39;00m \u001b[38;5;21;01m.\u001b[39;00m\u001b[38;5;21;01mcbook\u001b[39;00m \u001b[38;5;28;01mimport\u001b[39;00m (\n\u001b[0;32m     16\u001b[0m     _to_unmasked_float_array, ls_mapper, ls_mapper_r, STEP_LOOKUP_MAP)\n\u001b[0;32m     17\u001b[0m \u001b[38;5;28;01mfrom\u001b[39;00m \u001b[38;5;21;01m.\u001b[39;00m\u001b[38;5;21;01mmarkers\u001b[39;00m \u001b[38;5;28;01mimport\u001b[39;00m MarkerStyle\n",
      "\u001b[1;31mModuleNotFoundError\u001b[0m: No module named 'matplotlib.artist'"
     ]
    }
   ],
   "source": [
    "#importing libraries\n",
    "import pandas as pd\n",
    "import numpy as np\n",
    "import matplotlib.pyplot as plt\n",
    "import seaborn as sns\n",
    "\n",
    "%matplotlib inline"
   ]
  },
  {
   "cell_type": "markdown",
   "id": "92db1459",
   "metadata": {},
   "source": [
    "#### Data Understanding"
   ]
  },
  {
   "cell_type": "code",
   "execution_count": null,
   "id": "fb97ca08",
   "metadata": {},
   "outputs": [],
   "source": [
    "#loading data\n",
    "train = pd.read_csv('Housing_dataset_train.csv')\n",
    "train.head()"
   ]
  },
  {
   "cell_type": "code",
   "execution_count": null,
   "id": "50f5df7e",
   "metadata": {},
   "outputs": [],
   "source": [
    "test = pd.read_csv('Housing_dataset_test.csv')\n",
    "test.head()"
   ]
  },
  {
   "cell_type": "code",
   "execution_count": null,
   "id": "ce687656",
   "metadata": {},
   "outputs": [],
   "source": [
    "train.info()"
   ]
  },
  {
   "cell_type": "code",
   "execution_count": null,
   "id": "f29e1f3d",
   "metadata": {},
   "outputs": [],
   "source": [
    "train.isnull().sum()"
   ]
  },
  {
   "cell_type": "markdown",
   "id": "5709ce04",
   "metadata": {},
   "source": [
    "### EDA"
   ]
  },
  {
   "cell_type": "code",
   "execution_count": null,
   "id": "1fe20501",
   "metadata": {},
   "outputs": [],
   "source": [
    "sns.countplot(x= 'loc', data = train)"
   ]
  },
  {
   "cell_type": "code",
   "execution_count": null,
   "id": "772a7f9e",
   "metadata": {},
   "outputs": [],
   "source": [
    "train['loc'].unique()"
   ]
  },
  {
   "cell_type": "code",
   "execution_count": null,
   "id": "cc8b6469",
   "metadata": {},
   "outputs": [],
   "source": [
    "train['loc'].nunique()"
   ]
  },
  {
   "cell_type": "code",
   "execution_count": null,
   "id": "ec7f6137",
   "metadata": {},
   "outputs": [],
   "source": [
    "train['loc'].value_counts()[:20].plot(kind = 'bar', figsize = (10, 7), title = 'The top 20 Location')"
   ]
  },
  {
   "cell_type": "code",
   "execution_count": null,
   "id": "0449beae",
   "metadata": {},
   "outputs": [],
   "source": [
    "train['title'].value_counts()[:10].plot(kind = 'bar', figsize = (10, 7), title = 'The top 10 houses')"
   ]
  },
  {
   "cell_type": "code",
   "execution_count": null,
   "id": "de4471bf",
   "metadata": {},
   "outputs": [],
   "source": [
    "train['loc'].value_counts()[10:].plot(kind = 'bar', figsize = (10, 7), title = 'The top 10 location')"
   ]
  },
  {
   "cell_type": "code",
   "execution_count": null,
   "id": "7936e952",
   "metadata": {},
   "outputs": [],
   "source": [
    "train['title'].unique()"
   ]
  },
  {
   "cell_type": "code",
   "execution_count": null,
   "id": "80d9f8ff",
   "metadata": {},
   "outputs": [],
   "source": [
    "sns.barplot(x= train['bathroom'].iloc[:10],y = train['bedroom'].iloc[:10], data = train)"
   ]
  },
  {
   "cell_type": "code",
   "execution_count": null,
   "id": "e941c972",
   "metadata": {},
   "outputs": [],
   "source": [
    "sns.lineplot(x= train['title'].iloc[:10],y = train['loc'].iloc[:10], data = train)"
   ]
  },
  {
   "cell_type": "code",
   "execution_count": null,
   "id": "813ba851",
   "metadata": {},
   "outputs": [],
   "source": [
    "train['title'].value_counts()"
   ]
  },
  {
   "cell_type": "code",
   "execution_count": null,
   "id": "0ea56e74",
   "metadata": {},
   "outputs": [],
   "source": [
    "sns.countplot(x='title', data = train)"
   ]
  },
  {
   "cell_type": "code",
   "execution_count": null,
   "id": "0da467b3",
   "metadata": {},
   "outputs": [],
   "source": [
    "sns.countplot(x='title', hue ='bathroom', data = train)"
   ]
  },
  {
   "cell_type": "code",
   "execution_count": null,
   "id": "9771b181",
   "metadata": {},
   "outputs": [],
   "source": [
    "sns.countplot(x='bathroom', data = train)"
   ]
  },
  {
   "cell_type": "code",
   "execution_count": null,
   "id": "29f1672c",
   "metadata": {},
   "outputs": [],
   "source": [
    "sns.countplot(x='bathroom', hue ='title', data = train)#most buildings have one or two bathroom"
   ]
  },
  {
   "cell_type": "code",
   "execution_count": null,
   "id": "d8b4b7ed",
   "metadata": {},
   "outputs": [],
   "source": [
    "sns.countplot(x='bedroom', hue ='title', data = train)"
   ]
  },
  {
   "cell_type": "code",
   "execution_count": null,
   "id": "4b3af6c7",
   "metadata": {},
   "outputs": [],
   "source": [
    "sns.countplot(x='loc', hue ='title', data = train)"
   ]
  },
  {
   "cell_type": "code",
   "execution_count": null,
   "id": "12358256",
   "metadata": {},
   "outputs": [],
   "source": [
    "sns.countplot(x= train['loc'].iloc[:20],hue = train['title'].iloc[:20], data = train)"
   ]
  },
  {
   "cell_type": "code",
   "execution_count": null,
   "id": "d3c28200",
   "metadata": {},
   "outputs": [],
   "source": [
    "train['loc'].value_counts()[30:].plot(kind = 'bar', figsize = (10, 7), title = 'The top 10 location')"
   ]
  },
  {
   "cell_type": "code",
   "execution_count": null,
   "id": "6f3d3e6e",
   "metadata": {},
   "outputs": [],
   "source": [
    "train['loc'].value_counts()[:20].plot(kind = 'bar', figsize = (10, 7), title = 'The top 10 location')"
   ]
  },
  {
   "cell_type": "code",
   "execution_count": null,
   "id": "e87b44b5",
   "metadata": {},
   "outputs": [],
   "source": [
    "train['loc'].value_counts()[20:30].plot(kind = 'bar', figsize = (10, 7), title = 'The top 10 location')"
   ]
  },
  {
   "cell_type": "code",
   "execution_count": null,
   "id": "9097c46e",
   "metadata": {},
   "outputs": [],
   "source": [
    "train['price'].nunique()"
   ]
  },
  {
   "cell_type": "markdown",
   "id": "7d91614e",
   "metadata": {},
   "source": [
    "import warnings\n",
    "warnings.filterwarnings(\"ignore\")\n",
    "# get list of categorical variables\n",
    "cat_vars = ['loc', 'title', 'bedroom', 'bathroom', 'parking_space']\n",
    "\n",
    "# create figure with subplots\n",
    "fig, axs = plt.subplots(nrows=1, ncols=3, figsize=(15, 10))\n",
    "axs = axs.flatten()\n",
    "\n",
    "# create histplot for each categorical variable\n",
    "for i, var in enumerate(cat_vars):\n",
    "    sns.histplot(x=var, hue='price', data=df, ax=axs[i], multiple=\"fill\", kde=False, element=\"bars\", fill=True, stat='density')\n",
    "    axs[i].set_xticklabels(df[var].unique(), rotation=90)\n",
    "    axs[i].set_xlabel(var)\n",
    "\n",
    "# adjust spacing between subplots\n",
    "fig.tight_layout()\n",
    "\n",
    "# show plot\n",
    "plt.show()\n"
   ]
  },
  {
   "cell_type": "markdown",
   "id": "5b79fcc1",
   "metadata": {},
   "source": [
    "### data preparation"
   ]
  },
  {
   "cell_type": "code",
   "execution_count": null,
   "id": "98f176d4",
   "metadata": {},
   "outputs": [],
   "source": [
    "train.columns"
   ]
  },
  {
   "cell_type": "code",
   "execution_count": null,
   "id": "e4625dfc",
   "metadata": {},
   "outputs": [],
   "source": [
    "test.isnull().sum()#checking for missing values"
   ]
  },
  {
   "cell_type": "code",
   "execution_count": null,
   "id": "90fa8447",
   "metadata": {},
   "outputs": [],
   "source": [
    "train.isnull().sum() #checking for missing values"
   ]
  },
  {
   "cell_type": "code",
   "execution_count": null,
   "id": "15c181f9",
   "metadata": {},
   "outputs": [],
   "source": [
    "train['loc'].mode()#checking for the mode of the data"
   ]
  },
  {
   "cell_type": "code",
   "execution_count": null,
   "id": "5bef3b71",
   "metadata": {},
   "outputs": [],
   "source": [
    "train['loc'] = train['loc'].fillna('Kaduna')#filling missing values with mode"
   ]
  },
  {
   "cell_type": "code",
   "execution_count": null,
   "id": "793109b7",
   "metadata": {},
   "outputs": [],
   "source": [
    "train['loc'].isnull().sum()"
   ]
  },
  {
   "cell_type": "code",
   "execution_count": null,
   "id": "5d487ae1",
   "metadata": {},
   "outputs": [],
   "source": [
    "train['title'].mode()#checking for the mode of the data"
   ]
  },
  {
   "cell_type": "code",
   "execution_count": null,
   "id": "fd97f44f",
   "metadata": {},
   "outputs": [],
   "source": [
    "train['title'] = train['title'].fillna('Flat')"
   ]
  },
  {
   "cell_type": "code",
   "execution_count": null,
   "id": "9e47eb5d",
   "metadata": {},
   "outputs": [],
   "source": [
    "train['title'].isnull().sum()"
   ]
  },
  {
   "cell_type": "code",
   "execution_count": null,
   "id": "35f2b6f8",
   "metadata": {},
   "outputs": [],
   "source": [
    "train['title'].unique()"
   ]
  },
  {
   "cell_type": "code",
   "execution_count": null,
   "id": "b80e3ff4",
   "metadata": {},
   "outputs": [],
   "source": [
    "train['bedroom'].mode()#checking for the mode of the data"
   ]
  },
  {
   "cell_type": "code",
   "execution_count": null,
   "id": "1c3dcf8c",
   "metadata": {},
   "outputs": [],
   "source": [
    "train['bedroom'] = train['bedroom'].fillna(5.0)#filling the null values with mode"
   ]
  },
  {
   "cell_type": "code",
   "execution_count": null,
   "id": "07de304e",
   "metadata": {},
   "outputs": [],
   "source": [
    "train['bedroom'].isnull().sum()#confirming there are no longer null values"
   ]
  },
  {
   "cell_type": "code",
   "execution_count": null,
   "id": "e2a87297",
   "metadata": {},
   "outputs": [],
   "source": [
    "train['bedroom'].unique()#checking for alignment"
   ]
  },
  {
   "cell_type": "code",
   "execution_count": null,
   "id": "0cda102d",
   "metadata": {},
   "outputs": [],
   "source": [
    "train['bathroom'].mode()#checking for the mode of the data"
   ]
  },
  {
   "cell_type": "code",
   "execution_count": null,
   "id": "4a686821",
   "metadata": {},
   "outputs": [],
   "source": [
    "train['bathroom'] = train['bathroom'].fillna(1.0)"
   ]
  },
  {
   "cell_type": "code",
   "execution_count": null,
   "id": "5367dacb",
   "metadata": {},
   "outputs": [],
   "source": [
    "train['bathroom'].isnull().sum()"
   ]
  },
  {
   "cell_type": "code",
   "execution_count": null,
   "id": "fe19f54d",
   "metadata": {},
   "outputs": [],
   "source": [
    "train['bathroom'].unique()"
   ]
  },
  {
   "cell_type": "code",
   "execution_count": null,
   "id": "afcbd391",
   "metadata": {},
   "outputs": [],
   "source": [
    "train['parking_space'].mode()#checking for the mode of the data"
   ]
  },
  {
   "cell_type": "code",
   "execution_count": null,
   "id": "c1ad0d79",
   "metadata": {},
   "outputs": [],
   "source": [
    "train['parking_space'] = train['parking_space'].fillna(4.0)#filling the null values with mode"
   ]
  },
  {
   "cell_type": "code",
   "execution_count": null,
   "id": "5ac9b936",
   "metadata": {},
   "outputs": [],
   "source": [
    "train['parking_space'].isnull().sum()#confirming there are no longer null values"
   ]
  },
  {
   "cell_type": "code",
   "execution_count": null,
   "id": "6b78597d",
   "metadata": {},
   "outputs": [],
   "source": [
    "train['parking_space'].unique()"
   ]
  },
  {
   "cell_type": "markdown",
   "id": "dcc39477",
   "metadata": {},
   "source": [
    "from scipy import stats\n",
    "#df= train['loc','title','bedroom','bathroom','parking_space']\n",
    "def fill_mode_and_check_missing(df):\n",
    "    # Get modes of columns\n",
    "    modes = df.mode().iloc[0]\n",
    "\n",
    "    # Fill null values with the mode\n",
    "    df_filled = df.fillna(modes)\n",
    "\n",
    "    # Check for missing values\n",
    "    missing_values = df_filled.isnull().sum()\n",
    "\n",
    "    return df_filled, missing_values"
   ]
  },
  {
   "cell_type": "markdown",
   "id": "5c7f8ea1",
   "metadata": {},
   "source": [
    "# Assuming you have a DataFrame called 'data'\n",
    "filled_data, missing_values = fill_mode_and_check_missing(train)"
   ]
  },
  {
   "cell_type": "markdown",
   "id": "d5d72e90",
   "metadata": {},
   "source": [
    "### Dealing with categorical data"
   ]
  },
  {
   "cell_type": "code",
   "execution_count": null,
   "id": "1a04ddbd",
   "metadata": {},
   "outputs": [],
   "source": [
    "from sklearn import preprocessing\n",
    "# Loop over each column in the DataFrame where dtype is 'object'\n",
    "for col in train.select_dtypes(include=['object']).columns:\n",
    "    \n",
    "    # Initialize a LabelEncoder object\n",
    "    label_encoder = preprocessing.LabelEncoder()\n",
    "    \n",
    "    # Fit the encoder to the unique values in the column\n",
    "    label_encoder.fit(train[col].unique())\n",
    "    \n",
    "    # Transform the column using the encoder\n",
    "    train[col] = label_encoder.transform(train[col])\n",
    "    \n",
    "    # Print the column name and the unique encoded values\n",
    "    print(f\"{col}: {train[col].unique()}\")"
   ]
  },
  {
   "cell_type": "code",
   "execution_count": null,
   "id": "a3499ef6",
   "metadata": {},
   "outputs": [],
   "source": [
    "train.select_dtypes(include=['object']).columns"
   ]
  },
  {
   "cell_type": "code",
   "execution_count": null,
   "id": "dba1d9d8",
   "metadata": {},
   "outputs": [],
   "source": [
    "train.head()"
   ]
  },
  {
   "cell_type": "code",
   "execution_count": null,
   "id": "10b8db57",
   "metadata": {},
   "outputs": [],
   "source": [
    "train.info()"
   ]
  },
  {
   "cell_type": "code",
   "execution_count": null,
   "id": "c9fdc661",
   "metadata": {},
   "outputs": [],
   "source": [
    "test.info()"
   ]
  },
  {
   "cell_type": "code",
   "execution_count": null,
   "id": "0912e921",
   "metadata": {},
   "outputs": [],
   "source": [
    "# Loop over each column in the DataFrame where dtype is 'object'\n",
    "for col in test.select_dtypes(include=['object']).columns:\n",
    "    \n",
    "    # Initialize a LabelEncoder object\n",
    "    label_encoder = preprocessing.LabelEncoder()\n",
    "    \n",
    "    # Fit the encoder to the unique values in the column\n",
    "    label_encoder.fit(test[col].unique())\n",
    "    \n",
    "    # Transform the column using the encoder\n",
    "    test[col] = label_encoder.transform(test[col])\n",
    "    \n",
    "    # Print the column name and the unique encoded values\n",
    "    print(f\"{col}: {test[col].unique()}\")"
   ]
  },
  {
   "cell_type": "markdown",
   "id": "d874f1ae",
   "metadata": {},
   "source": [
    "### checking for outliers in the dataset excluding the previuously categorical data"
   ]
  },
  {
   "cell_type": "code",
   "execution_count": null,
   "id": "2260a058",
   "metadata": {},
   "outputs": [],
   "source": [
    "num_vars = ['loc', 'title', 'bedroom', 'bathroom', 'parking_space']\n",
    "\n",
    "fig, axs = plt.subplots(nrows=1, ncols=5, figsize=(20, 10))\n",
    "axs = axs.flatten()\n",
    "\n",
    "for i, var in enumerate(num_vars):\n",
    "    sns.boxplot(x=var, data=train, ax=axs[i])\n",
    "\n",
    "fig.tight_layout()\n",
    "\n",
    "# remove the 15th subplot\n",
    "fig.delaxes(axs[14])\n",
    "\n",
    "plt.show()"
   ]
  },
  {
   "cell_type": "markdown",
   "id": "008f815d",
   "metadata": {},
   "source": [
    "num_vars = ['loc', 'title', 'bedroom', 'bathroom', 'parking_space']\n",
    "\n",
    "fig, axs = plt.subplots(nrows=3, ncols=2, figsize=(20, 20))\n",
    "axs = axs.flatten()\n",
    "\n",
    "for i, var in enumerate(num_vars):\n",
    "    sns.boxplot(y=var, x='price', data=train, ax=axs[i])\n",
    "\n",
    "fig.tight_layout()\n",
    "\n",
    "# remove the 15th subplot\n",
    "fig.delaxes(axs[14])\n",
    "\n",
    "plt.show()"
   ]
  },
  {
   "cell_type": "markdown",
   "id": "014a8908",
   "metadata": {},
   "source": [
    "### Feature Selection"
   ]
  },
  {
   "cell_type": "code",
   "execution_count": null,
   "id": "bc9ffcb2",
   "metadata": {},
   "outputs": [],
   "source": [
    "sns.heatmap(train.corr(), annot = True)"
   ]
  },
  {
   "cell_type": "code",
   "execution_count": null,
   "id": "5ec6703d",
   "metadata": {},
   "outputs": [],
   "source": [
    "sns.heatmap(test.corr(), annot = True)"
   ]
  },
  {
   "cell_type": "code",
   "execution_count": null,
   "id": "c71d9051",
   "metadata": {},
   "outputs": [],
   "source": [
    "train.drop('ID', axis = 1, inplace = True)"
   ]
  },
  {
   "cell_type": "code",
   "execution_count": null,
   "id": "30713945",
   "metadata": {},
   "outputs": [],
   "source": [
    "#splitting the data to dependent and independent \n",
    "X = train.iloc[:, :-1]\n",
    "y = train.iloc[:,-1]"
   ]
  },
  {
   "cell_type": "code",
   "execution_count": null,
   "id": "70f9557f",
   "metadata": {},
   "outputs": [],
   "source": [
    "X.head()"
   ]
  },
  {
   "cell_type": "code",
   "execution_count": null,
   "id": "41359869",
   "metadata": {},
   "outputs": [],
   "source": [
    "y.head()"
   ]
  },
  {
   "cell_type": "code",
   "execution_count": null,
   "id": "179898b5",
   "metadata": {},
   "outputs": [],
   "source": []
  }
 ],
 "metadata": {
  "kernelspec": {
   "display_name": "Python 3 (ipykernel)",
   "language": "python",
   "name": "python3"
  },
  "language_info": {
   "codemirror_mode": {
    "name": "ipython",
    "version": 3
   },
   "file_extension": ".py",
   "mimetype": "text/x-python",
   "name": "python",
   "nbconvert_exporter": "python",
   "pygments_lexer": "ipython3",
   "version": "3.10.9"
  }
 },
 "nbformat": 4,
 "nbformat_minor": 5
}
